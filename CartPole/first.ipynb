{
 "cells": [
  {
   "cell_type": "code",
   "execution_count": 7,
   "id": "dcbfc36e",
   "metadata": {},
   "outputs": [
    {
     "name": "stdout",
     "output_type": "stream",
     "text": [
      "Episode 1 finished after 20 steps\n",
      "Episode 2 finished after 28 steps\n",
      "Episode 3 finished after 14 steps\n",
      "Episode 4 finished after 11 steps\n",
      "Episode 5 finished after 49 steps\n",
      "Episode 6 finished after 11 steps\n",
      "Episode 7 finished after 9 steps\n",
      "Episode 8 finished after 35 steps\n",
      "Episode 9 finished after 40 steps\n",
      "Episode 10 finished after 44 steps\n"
     ]
    }
   ],
   "source": [
    "import gym\n",
    "\n",
    "# 创建CartPole环境\n",
    "env = gym.make('CartPole-v1', render_mode=\"human\")\n",
    "\n",
    "# 进行若干次实验\n",
    "for episode in range(10):\n",
    "    state = env.reset()\n",
    "    terminated = False\n",
    "    step_count = 0\n",
    "\n",
    "    # 在每次实验中，执行若干步操作\n",
    "    while not terminated:\n",
    "        env.render()\n",
    "        action = env.action_space.sample()\n",
    "        state, reward, terminated, truncated, info = env.step(action)\n",
    "        step_count += 1\n",
    "\n",
    "    print(f\"Episode {episode + 1} finished after {step_count} steps\")\n",
    "\n",
    "env.close()\n"
   ]
  },
  {
   "cell_type": "markdown",
   "id": "b90ac7f0",
   "metadata": {},
   "source": [
    "测试Git"
   ]
  },
  {
   "cell_type": "code",
   "execution_count": null,
   "id": "2dd99bf7",
   "metadata": {},
   "outputs": [],
   "source": []
  },
  {
   "cell_type": "code",
   "execution_count": null,
   "id": "07473a51",
   "metadata": {},
   "outputs": [],
   "source": []
  }
 ],
 "metadata": {
  "kernelspec": {
   "display_name": "Python 3 (ipykernel)",
   "language": "python",
   "name": "python3"
  },
  "language_info": {
   "codemirror_mode": {
    "name": "ipython",
    "version": 3
   },
   "file_extension": ".py",
   "mimetype": "text/x-python",
   "name": "python",
   "nbconvert_exporter": "python",
   "pygments_lexer": "ipython3",
   "version": "3.8.16"
  }
 },
 "nbformat": 4,
 "nbformat_minor": 5
}
